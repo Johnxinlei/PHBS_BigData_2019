{
 "cells": [
  {
   "cell_type": "markdown",
   "metadata": {},
   "source": [
    "# Homework 2\n",
    "## Name: 常鑫磊 \n",
    "## ID:1801212779"
   ]
  },
  {
   "cell_type": "markdown",
   "metadata": {},
   "source": [
    "# Problem 1"
   ]
  },
  {
   "cell_type": "markdown",
   "metadata": {},
   "source": [
    "### 1. Implement a function closed_form_1 that computes this closed form solution given the features 𝐗, labels Y (using Python or Matlab).\n"
   ]
  },
  {
   "cell_type": "code",
   "execution_count": 381,
   "metadata": {},
   "outputs": [],
   "source": [
    "import numpy as np\n",
    "import pandas as pd\n",
    "import matplotlib.pyplot as plt"
   ]
  },
  {
   "cell_type": "code",
   "execution_count": 382,
   "metadata": {
    "scrolled": true
   },
   "outputs": [],
   "source": [
    "df_1 = pd.read_csv(\"climate_change_1.csv\",header = 0)\n",
    "df_2 = pd.read_csv(\"climate_change_2.csv\",header = 0)\n",
    "training_set = df_1[df_1.Year<=2006]\n",
    "testing_set = df_1[df_1.Year>2006]"
   ]
  },
  {
   "cell_type": "code",
   "execution_count": 383,
   "metadata": {},
   "outputs": [],
   "source": [
    "n_samples = len(training_set)\n",
    "Y=training_set.values[:,-1]\n",
    "constant = np.ones(n_samples)\n",
    "X=np.insert(training_set.values[:,2:-1],0,constant,axis=1)"
   ]
  },
  {
   "cell_type": "code",
   "execution_count": 384,
   "metadata": {},
   "outputs": [
    {
     "name": "stdout",
     "output_type": "stream",
     "text": [
      "the coefficient of OLS closed form solution:\n",
      " [-1.24594261e+02  6.42053134e-02  6.45735927e-03  1.24041896e-04\n",
      " -1.65280033e-02 -6.63048889e-03  3.80810324e-03  9.31410838e-02\n",
      " -1.53761324e+00]\n"
     ]
    }
   ],
   "source": [
    "def closed_form_1(x,y):\n",
    "    beta = np.linalg.inv(x.T@x)@x.T@y\n",
    "    return beta\n",
    "\n",
    "beta = closed_form_1(X,Y)\n",
    "print(\"the coefficient of OLS closed form solution:\\n\",beta)"
   ]
  },
  {
   "cell_type": "markdown",
   "metadata": {},
   "source": [
    "### 2.Write down the mathematical formula for the linear model and evaluate the model R2 on the training set and the testing set.\n",
    "The mathematical formula for the linear model is\n",
    "* $$y=X\\beta+\\epsilon$$\n",
    "\n",
    "The formula of $R^2$ is\n",
    "* $$R^2 = \\frac{\\Sigma_i(\\hat y_i-\\bar y_i)^2}{\\Sigma_i(y_i-\\bar y_i)^2}$$"
   ]
  },
  {
   "cell_type": "code",
   "execution_count": 385,
   "metadata": {},
   "outputs": [
    {
     "data": {
      "text/plain": [
       "0.7508932772525232"
      ]
     },
     "execution_count": 385,
     "metadata": {},
     "output_type": "execute_result"
    }
   ],
   "source": [
    "def R_squared(x,y,beta):\n",
    "    SSR = np.sum((x@beta-y.mean())**2)\n",
    "    SST = np.sum((y-y.mean())**2)\n",
    "    return SSR/SST\n",
    "\n",
    "R_squared(X,Y,closed_form_1(X,Y))"
   ]
  },
  {
   "cell_type": "code",
   "execution_count": 386,
   "metadata": {},
   "outputs": [
    {
     "name": "stdout",
     "output_type": "stream",
     "text": [
      "R_squared of training_data is 0.7508932772525232\n",
      "R_squared of testing_data is 0.22517701503585116\n"
     ]
    }
   ],
   "source": [
    "n_samples = len(testing_set)\n",
    "Y_test=testing_set.values[:,-1]\n",
    "constant = np.ones(n_samples)\n",
    "X_test=np.insert(testing_set.values[:,2:-1],0,constant,axis=1)\n",
    "\n",
    "R_squared(X_test,Y_test,closed_form_1(X,Y))\n",
    "\n",
    "print(\"R_squared of training_data is\", R_squared(X,Y,closed_form_1(X,Y)))\n",
    "print(\"R_squared of testing_data is\", R_squared(X_test,Y_test,closed_form_1(X,Y)))\n"
   ]
  },
  {
   "cell_type": "markdown",
   "metadata": {},
   "source": [
    "### 3.Which variables are significant in the model?"
   ]
  },
  {
   "cell_type": "code",
   "execution_count": 387,
   "metadata": {},
   "outputs": [],
   "source": [
    "def t_test(x,y):\n",
    "    sum_error = (y-x@closed_form_1(x,y)).T@(y-x@closed_form_1(x,y))\n",
    "    n = np.shape(x)[0]\n",
    "    k = np.shape(x)[1]\n",
    "    var_beta = sum_error/(n-k)*np.diag(np.linalg.inv(X.T@X))\n",
    "    t = closed_form_1(x,y)/np.sqrt(var_beta)\n",
    "    return t"
   ]
  },
  {
   "cell_type": "code",
   "execution_count": 388,
   "metadata": {},
   "outputs": [
    {
     "data": {
      "text/plain": [
       "array([-6.26517396,  9.923226  ,  2.8264197 ,  0.2404694 , -1.92972604,\n",
       "       -4.07783387,  3.75729271,  6.31256095, -7.21030085])"
      ]
     },
     "execution_count": 388,
     "metadata": {},
     "output_type": "execute_result"
    }
   ],
   "source": [
    "t_test(X,Y)"
   ]
  },
  {
   "cell_type": "code",
   "execution_count": 389,
   "metadata": {},
   "outputs": [
    {
     "data": {
      "text/plain": [
       "array([ True,  True,  True, False, False,  True,  True,  True,  True])"
      ]
     },
     "execution_count": 389,
     "metadata": {},
     "output_type": "execute_result"
    }
   ],
   "source": [
    "np.abs(t_test(X,Y))>2"
   ]
  },
  {
   "cell_type": "code",
   "execution_count": 390,
   "metadata": {},
   "outputs": [
    {
     "name": "stdout",
     "output_type": "stream",
     "text": [
      "MEI,C02,CFC-11,CFC-12,TSI and Aerosols are significant variables\n"
     ]
    }
   ],
   "source": [
    "print(\"MEI,C02,CFC-11,CFC-12,TSI and Aerosols are significant variables\")"
   ]
  },
  {
   "cell_type": "markdown",
   "metadata": {},
   "source": [
    "### 4. Write down the necessary conditions for using the closed form solution. And you can apply it to the dataset climate_change_2.csv, explain the solution is unreasonable.\n",
    "Necessary conditions: $(XX')^{-1} existed$\n",
    "\n",
    "In data set 2, the covariance matrix shows the correlation coefficient between CO2 and N2O, CFC-12 and CH4 is pretty high, which result multicolinearity. So, the analytical solution is sensetive to the original value and unreasonable for data set 2."
   ]
  },
  {
   "cell_type": "code",
   "execution_count": 391,
   "metadata": {},
   "outputs": [
    {
     "data": {
      "text/html": [
       "<div>\n",
       "<style scoped>\n",
       "    .dataframe tbody tr th:only-of-type {\n",
       "        vertical-align: middle;\n",
       "    }\n",
       "\n",
       "    .dataframe tbody tr th {\n",
       "        vertical-align: top;\n",
       "    }\n",
       "\n",
       "    .dataframe thead th {\n",
       "        text-align: right;\n",
       "    }\n",
       "</style>\n",
       "<table border=\"1\" class=\"dataframe\">\n",
       "  <thead>\n",
       "    <tr style=\"text-align: right;\">\n",
       "      <th></th>\n",
       "      <th>MEI</th>\n",
       "      <th>CO2</th>\n",
       "      <th>CH4</th>\n",
       "      <th>N2O</th>\n",
       "      <th>CFC-11</th>\n",
       "      <th>CFC-12</th>\n",
       "      <th>TSI</th>\n",
       "      <th>Aerosols</th>\n",
       "      <th>NO</th>\n",
       "    </tr>\n",
       "  </thead>\n",
       "  <tbody>\n",
       "    <tr>\n",
       "      <th>MEI</th>\n",
       "      <td>1.000000</td>\n",
       "      <td>-0.152911</td>\n",
       "      <td>-0.105555</td>\n",
       "      <td>-0.162375</td>\n",
       "      <td>0.088171</td>\n",
       "      <td>-0.039836</td>\n",
       "      <td>-0.076826</td>\n",
       "      <td>0.352351</td>\n",
       "      <td>-0.105555</td>\n",
       "    </tr>\n",
       "    <tr>\n",
       "      <th>CO2</th>\n",
       "      <td>-0.152911</td>\n",
       "      <td>1.000000</td>\n",
       "      <td>0.872253</td>\n",
       "      <td>0.981135</td>\n",
       "      <td>0.401284</td>\n",
       "      <td>0.823210</td>\n",
       "      <td>0.017867</td>\n",
       "      <td>-0.369265</td>\n",
       "      <td>0.872253</td>\n",
       "    </tr>\n",
       "    <tr>\n",
       "      <th>CH4</th>\n",
       "      <td>-0.105555</td>\n",
       "      <td>0.872253</td>\n",
       "      <td>1.000000</td>\n",
       "      <td>0.894409</td>\n",
       "      <td>0.713504</td>\n",
       "      <td>0.958237</td>\n",
       "      <td>0.146335</td>\n",
       "      <td>-0.290381</td>\n",
       "      <td>1.000000</td>\n",
       "    </tr>\n",
       "    <tr>\n",
       "      <th>N2O</th>\n",
       "      <td>-0.162375</td>\n",
       "      <td>0.981135</td>\n",
       "      <td>0.894409</td>\n",
       "      <td>1.000000</td>\n",
       "      <td>0.412155</td>\n",
       "      <td>0.839295</td>\n",
       "      <td>0.039892</td>\n",
       "      <td>-0.353499</td>\n",
       "      <td>0.894409</td>\n",
       "    </tr>\n",
       "    <tr>\n",
       "      <th>CFC-11</th>\n",
       "      <td>0.088171</td>\n",
       "      <td>0.401284</td>\n",
       "      <td>0.713504</td>\n",
       "      <td>0.412155</td>\n",
       "      <td>1.000000</td>\n",
       "      <td>0.831381</td>\n",
       "      <td>0.284629</td>\n",
       "      <td>-0.032302</td>\n",
       "      <td>0.713504</td>\n",
       "    </tr>\n",
       "    <tr>\n",
       "      <th>CFC-12</th>\n",
       "      <td>-0.039836</td>\n",
       "      <td>0.823210</td>\n",
       "      <td>0.958237</td>\n",
       "      <td>0.839295</td>\n",
       "      <td>0.831381</td>\n",
       "      <td>1.000000</td>\n",
       "      <td>0.189270</td>\n",
       "      <td>-0.243785</td>\n",
       "      <td>0.958237</td>\n",
       "    </tr>\n",
       "    <tr>\n",
       "      <th>TSI</th>\n",
       "      <td>-0.076826</td>\n",
       "      <td>0.017867</td>\n",
       "      <td>0.146335</td>\n",
       "      <td>0.039892</td>\n",
       "      <td>0.284629</td>\n",
       "      <td>0.189270</td>\n",
       "      <td>1.000000</td>\n",
       "      <td>0.083238</td>\n",
       "      <td>0.146335</td>\n",
       "    </tr>\n",
       "    <tr>\n",
       "      <th>Aerosols</th>\n",
       "      <td>0.352351</td>\n",
       "      <td>-0.369265</td>\n",
       "      <td>-0.290381</td>\n",
       "      <td>-0.353499</td>\n",
       "      <td>-0.032302</td>\n",
       "      <td>-0.243785</td>\n",
       "      <td>0.083238</td>\n",
       "      <td>1.000000</td>\n",
       "      <td>-0.290381</td>\n",
       "    </tr>\n",
       "    <tr>\n",
       "      <th>NO</th>\n",
       "      <td>-0.105555</td>\n",
       "      <td>0.872253</td>\n",
       "      <td>1.000000</td>\n",
       "      <td>0.894409</td>\n",
       "      <td>0.713504</td>\n",
       "      <td>0.958237</td>\n",
       "      <td>0.146335</td>\n",
       "      <td>-0.290381</td>\n",
       "      <td>1.000000</td>\n",
       "    </tr>\n",
       "  </tbody>\n",
       "</table>\n",
       "</div>"
      ],
      "text/plain": [
       "               MEI       CO2       CH4       N2O    CFC-11    CFC-12  \\\n",
       "MEI       1.000000 -0.152911 -0.105555 -0.162375  0.088171 -0.039836   \n",
       "CO2      -0.152911  1.000000  0.872253  0.981135  0.401284  0.823210   \n",
       "CH4      -0.105555  0.872253  1.000000  0.894409  0.713504  0.958237   \n",
       "N2O      -0.162375  0.981135  0.894409  1.000000  0.412155  0.839295   \n",
       "CFC-11    0.088171  0.401284  0.713504  0.412155  1.000000  0.831381   \n",
       "CFC-12   -0.039836  0.823210  0.958237  0.839295  0.831381  1.000000   \n",
       "TSI      -0.076826  0.017867  0.146335  0.039892  0.284629  0.189270   \n",
       "Aerosols  0.352351 -0.369265 -0.290381 -0.353499 -0.032302 -0.243785   \n",
       "NO       -0.105555  0.872253  1.000000  0.894409  0.713504  0.958237   \n",
       "\n",
       "               TSI  Aerosols        NO  \n",
       "MEI      -0.076826  0.352351 -0.105555  \n",
       "CO2       0.017867 -0.369265  0.872253  \n",
       "CH4       0.146335 -0.290381  1.000000  \n",
       "N2O       0.039892 -0.353499  0.894409  \n",
       "CFC-11    0.284629 -0.032302  0.713504  \n",
       "CFC-12    0.189270 -0.243785  0.958237  \n",
       "TSI       1.000000  0.083238  0.146335  \n",
       "Aerosols  0.083238  1.000000 -0.290381  \n",
       "NO        0.146335 -0.290381  1.000000  "
      ]
     },
     "execution_count": 391,
     "metadata": {},
     "output_type": "execute_result"
    }
   ],
   "source": [
    "df_2.loc[:,\"MEI\":\"NO\"].corr()"
   ]
  },
  {
   "cell_type": "markdown",
   "metadata": {},
   "source": [
    "# Problem2"
   ]
  },
  {
   "cell_type": "markdown",
   "metadata": {},
   "source": [
    "### 1. Please write down the loss function for linear model with L1 regularization, L2 regularization, respectively.\n",
    "* The loss function with $L_1$ regularization $$L=(Y-X\\beta)'(Y-X\\beta)+\\lambda||\\beta||_1$$\n",
    "* The loss function with $L_2$ regularization $$L=(Y-X\\beta)'(Y-X\\beta)+\\lambda ||\\beta||_2^2$$\n"
   ]
  },
  {
   "cell_type": "markdown",
   "metadata": {},
   "source": [
    "### 2.The closed form solution for linear model with L2 regularization:\n",
    "$$\\theta = (X^TX+\\lambda I)^{-1}X^TY$$ \n",
    "### where I is the identity matrix. Write a function closed_form_2 that computes this closed form solution given the features X, labels Y and the regularization parameter $\\lambda$"
   ]
  },
  {
   "cell_type": "code",
   "execution_count": 392,
   "metadata": {},
   "outputs": [
    {
     "data": {
      "text/plain": [
       "array([-8.08439685e+01,  4.48393633e-02,  8.41756269e-03,  2.58313240e-04,\n",
       "       -1.76472998e-02, -6.80438552e-03,  3.74782755e-03,  6.07197938e-02,\n",
       "       -2.68981314e-02])"
      ]
     },
     "execution_count": 392,
     "metadata": {},
     "output_type": "execute_result"
    }
   ],
   "source": [
    "def closed_form_2(x,y,lam):\n",
    "    lam_mat = lam*np.eye(x.shape[1])\n",
    "    lam_mat[0,0] = 0\n",
    "    beta = np.linalg.inv(x.T@x+lam_mat)@x.T@y\n",
    "    return beta\n",
    "\n",
    "closed_form_2(X,Y,10)\n"
   ]
  },
  {
   "cell_type": "markdown",
   "metadata": {},
   "source": [
    "### 3.Compare the two solutions in problem 1 and problem 2 and explain the reason why linear model with L2 regularization is robust. (using climate_change_1.csv)"
   ]
  },
  {
   "cell_type": "code",
   "execution_count": 393,
   "metadata": {},
   "outputs": [
    {
     "name": "stdout",
     "output_type": "stream",
     "text": [
      "L2 coeffcient: [-8.08439685e+01  4.48393633e-02  8.41756269e-03  2.58313240e-04\n",
      " -1.76472998e-02 -6.80438552e-03  3.74782755e-03  6.07197938e-02\n",
      " -2.68981314e-02]\n",
      "no punishment coefficient: [-1.24594261e+02  6.42053134e-02  6.45735927e-03  1.24041896e-04\n",
      " -1.65280033e-02 -6.63048889e-03  3.80810324e-03  9.31410838e-02\n",
      " -1.53761324e+00]\n"
     ]
    }
   ],
   "source": [
    "beta_L2 = closed_form_2(X,Y,10)\n",
    "beta = closed_form_2(X,Y,0)\n",
    "\n",
    "print(\"L2 coeffcient:\",beta_L2)\n",
    "print(\"no punishment coefficient:\",beta)"
   ]
  },
  {
   "cell_type": "markdown",
   "metadata": {},
   "source": [
    "We can see under L2 regularization, most of coefficient are shrinked compared to the no regularization formula, which can prevent overfiting, thus the linear model with L2 regularization is robust"
   ]
  },
  {
   "cell_type": "markdown",
   "metadata": {},
   "source": [
    "### 4. You can change the regularization parameter λ to get different solutions for this problem. Suppose we set λ = 10, 1, 0.1, 0.01, 0.001, and please evaluate the model R2 on the training set and the testing set. Finally, please decide the best regularization parameter $\\lambda$."
   ]
  },
  {
   "cell_type": "code",
   "execution_count": 394,
   "metadata": {},
   "outputs": [
    {
     "data": {
      "text/html": [
       "<div>\n",
       "<style scoped>\n",
       "    .dataframe tbody tr th:only-of-type {\n",
       "        vertical-align: middle;\n",
       "    }\n",
       "\n",
       "    .dataframe tbody tr th {\n",
       "        vertical-align: top;\n",
       "    }\n",
       "\n",
       "    .dataframe thead th {\n",
       "        text-align: right;\n",
       "    }\n",
       "</style>\n",
       "<table border=\"1\" class=\"dataframe\">\n",
       "  <thead>\n",
       "    <tr style=\"text-align: right;\">\n",
       "      <th></th>\n",
       "      <th>0.00</th>\n",
       "      <th>0.01</th>\n",
       "      <th>0.10</th>\n",
       "      <th>1.00</th>\n",
       "      <th>10.00</th>\n",
       "      <th>20.00</th>\n",
       "    </tr>\n",
       "  </thead>\n",
       "  <tbody>\n",
       "    <tr>\n",
       "      <th>R_squared traning</th>\n",
       "      <td>0.750893</td>\n",
       "      <td>0.746158</td>\n",
       "      <td>0.723403</td>\n",
       "      <td>0.703035</td>\n",
       "      <td>0.689331</td>\n",
       "      <td>0.680339</td>\n",
       "    </tr>\n",
       "    <tr>\n",
       "      <th>R_squared testing</th>\n",
       "      <td>0.225177</td>\n",
       "      <td>0.229220</td>\n",
       "      <td>0.267028</td>\n",
       "      <td>0.390934</td>\n",
       "      <td>0.550321</td>\n",
       "      <td>0.660820</td>\n",
       "    </tr>\n",
       "  </tbody>\n",
       "</table>\n",
       "</div>"
      ],
      "text/plain": [
       "                      0.00      0.01      0.10      1.00      10.00     20.00\n",
       "R_squared traning  0.750893  0.746158  0.723403  0.703035  0.689331  0.680339\n",
       "R_squared testing  0.225177  0.229220  0.267028  0.390934  0.550321  0.660820"
      ]
     },
     "execution_count": 394,
     "metadata": {},
     "output_type": "execute_result"
    }
   ],
   "source": [
    "lam_list = [0, 0.01, 0.1, 1, 10, 20]\n",
    "R2_training, R2_testing = [], []\n",
    "for each in lam_list:\n",
    "    theta = closed_form_2(X, Y, lam=each)\n",
    "    R2_training.append(R_squared(X,Y,theta))\n",
    "    R2_testing.append(R_squared(X_test,Y_test,theta))\n",
    "\n",
    "pd.DataFrame([R2_training, R2_testing], index=[\"R_squared traning\", \"R_squared testing\"], columns=lam_list)"
   ]
  },
  {
   "cell_type": "code",
   "execution_count": 395,
   "metadata": {},
   "outputs": [],
   "source": [
    "from sklearn.model_selection import KFold\n",
    "from sklearn.linear_model import LinearRegression\n",
    "from sklearn.metrics import mean_squared_error\n",
    "\n",
    "model = LinearRegression()\n",
    "kf = KFold(n_splits=5)\n",
    "\n",
    "X = training_set.loc[:, \"MEI\":\"Aerosols\"].values\n",
    "X = np.insert(X,0,np.ones(X.shape[0]),axis=1)\n",
    "y = training_set[\"Temp\"].values\n",
    "\n",
    "\n",
    "lam_list = [0, 0.001, 0.01, 0.1, 1, 10, 20]\n",
    "MSE_training = []\n",
    "MSE_validation = []\n",
    "MSE_test = []\n",
    "for each in lam_list:\n",
    "    MSE_training_here = 0 \n",
    "    MSE_validation_here = 0 \n",
    "    MSE_test_here = 0\n",
    "    for train_index, test_index in kf.split(y):\n",
    "        X_train, X_test = X[train_index], X[test_index]\n",
    "        y_train, y_test = y[train_index], y[test_index]\n",
    "\n",
    "        theta = closed_form_2(X_train, y_train, lam=each)\n",
    "        y_predict = X_train @ theta\n",
    "        MSE_training_here += mean_squared_error(y_train, y_predict)\n",
    "        y_predict = X_test @ theta\n",
    "        MSE_validation_here += mean_squared_error(y_test, y_predict)\n",
    "        MSE_test_here += mean_squared_error(testing_set[\"Temp\"].values, testing_set.loc[:, \"MEI\":\"Aerosols\"].values @ theta[1:] + theta[0])\n",
    "    \n",
    "    MSE_training.append(MSE_training_here / 5)\n",
    "    MSE_validation.append(MSE_validation_here / 5)\n",
    "    MSE_test.append(MSE_test_here / 5)\n",
    "    "
   ]
  },
  {
   "cell_type": "code",
   "execution_count": 396,
   "metadata": {},
   "outputs": [
    {
     "data": {
      "text/html": [
       "<div>\n",
       "<style scoped>\n",
       "    .dataframe tbody tr th:only-of-type {\n",
       "        vertical-align: middle;\n",
       "    }\n",
       "\n",
       "    .dataframe tbody tr th {\n",
       "        vertical-align: top;\n",
       "    }\n",
       "\n",
       "    .dataframe thead th {\n",
       "        text-align: right;\n",
       "    }\n",
       "</style>\n",
       "<table border=\"1\" class=\"dataframe\">\n",
       "  <thead>\n",
       "    <tr style=\"text-align: right;\">\n",
       "      <th></th>\n",
       "      <th>0.000</th>\n",
       "      <th>0.001</th>\n",
       "      <th>0.010</th>\n",
       "      <th>0.100</th>\n",
       "      <th>1.000</th>\n",
       "      <th>10.000</th>\n",
       "      <th>20.000</th>\n",
       "    </tr>\n",
       "  </thead>\n",
       "  <tbody>\n",
       "    <tr>\n",
       "      <th>MSE_training</th>\n",
       "      <td>0.007691</td>\n",
       "      <td>0.007691</td>\n",
       "      <td>0.007701</td>\n",
       "      <td>0.007953</td>\n",
       "      <td>0.008744</td>\n",
       "      <td>0.009084</td>\n",
       "      <td>0.009192</td>\n",
       "    </tr>\n",
       "    <tr>\n",
       "      <th>MSE_validation</th>\n",
       "      <td>0.024045</td>\n",
       "      <td>0.024108</td>\n",
       "      <td>0.024790</td>\n",
       "      <td>0.031237</td>\n",
       "      <td>0.041702</td>\n",
       "      <td>0.041028</td>\n",
       "      <td>0.038466</td>\n",
       "    </tr>\n",
       "    <tr>\n",
       "      <th>MSE_test</th>\n",
       "      <td>0.009956</td>\n",
       "      <td>0.009947</td>\n",
       "      <td>0.009884</td>\n",
       "      <td>0.009986</td>\n",
       "      <td>0.011963</td>\n",
       "      <td>0.015869</td>\n",
       "      <td>0.018576</td>\n",
       "    </tr>\n",
       "  </tbody>\n",
       "</table>\n",
       "</div>"
      ],
      "text/plain": [
       "                  0.000     0.001     0.010     0.100     1.000     10.000  \\\n",
       "MSE_training    0.007691  0.007691  0.007701  0.007953  0.008744  0.009084   \n",
       "MSE_validation  0.024045  0.024108  0.024790  0.031237  0.041702  0.041028   \n",
       "MSE_test        0.009956  0.009947  0.009884  0.009986  0.011963  0.015869   \n",
       "\n",
       "                  20.000  \n",
       "MSE_training    0.009192  \n",
       "MSE_validation  0.038466  \n",
       "MSE_test        0.018576  "
      ]
     },
     "execution_count": 396,
     "metadata": {},
     "output_type": "execute_result"
    }
   ],
   "source": [
    "pd.DataFrame([MSE_training, MSE_validation, MSE_test], index=[\"MSE_training\", \"MSE_validation\",\"MSE_test\"], columns=lam_list)"
   ]
  },
  {
   "cell_type": "markdown",
   "metadata": {},
   "source": [
    "Hence $\\lambda$ = 0.01 is best"
   ]
  },
  {
   "cell_type": "markdown",
   "metadata": {},
   "source": [
    "# Problem3"
   ]
  },
  {
   "cell_type": "markdown",
   "metadata": {},
   "source": [
    "### 1. From Problem 1, you can know which variables are significant, therefore you can use less variables to train model. For example, remove highly correlated and redundant features. You can propose a workflow to select feature.\n",
    "\n",
    "1. Remove the highly correlated variable first.\n",
    "2. Run regression, remove the insignificant variables step by step"
   ]
  },
  {
   "cell_type": "markdown",
   "metadata": {},
   "source": [
    "# Problem 4"
   ]
  },
  {
   "cell_type": "markdown",
   "metadata": {},
   "source": [
    "**Gradient descent algorithm is an iterative process that takes us to the minimum of a function. Please write down the iterative expression for updating the solution of linear model and implement it using Python or Matlab in gradientDescent function.**\n",
    "* Batch based gradient descent iterative formula is$$\\beta_n = \\beta_{n-1} -\\frac{\\alpha}{m} X'(X\\beta -y)$$\n"
   ]
  },
  {
   "cell_type": "code",
   "execution_count": 397,
   "metadata": {
    "scrolled": true
   },
   "outputs": [],
   "source": [
    "from sklearn import preprocessing\n",
    "\n",
    "train_data = df_1.loc[:2006,:]\n",
    "\n",
    "def loss(coeff,x,y):\n",
    "    return (x@coeff-y).T@(x@coeff-y)\n",
    "\n",
    "def gradientDescent(x,y,iter_max=200000, batch=100,alpha=1e-5,\n",
    "                     min_gap=1e-1,constant=True):\n",
    "    record = []\n",
    "    if constant:\n",
    "        x[\"Constant\"]=1\n",
    "    columns = x.columns\n",
    "    x = np.matrix(x)\n",
    "    y = np.matrix(y).T\n",
    "    coeff = np.matrix(np.arange(x.shape[1])/x.shape[1]).T\n",
    "\n",
    "    for i in range(iter_max):\n",
    "        idx = np.random.choice(x.shape[0],batch)\n",
    "        x_batch = x[idx,:]\n",
    "        y_batch = y[idx,:]\n",
    "        iteration = alpha/batch*(x_batch.T@(x_batch@coeff-y_batch))\n",
    "        if np.abs(iteration.A1).all() < min_gap:\n",
    "            print(\"iteration terminal at %s times\"%i)\n",
    "            break\n",
    "        else:\n",
    "            coeff = coeff - iteration\n",
    "            record.append(loss(coeff,x,y)[0,0])\n",
    "            \n",
    "    plt.plot(record, label = \"loss_function\")\n",
    "    plt.ylabel(\"total_loss\")\n",
    "    plt.xlabel(\"iter_times\")\n",
    "    plt.legend()\n",
    "    plt.show()\n",
    "    \n",
    "    print(\"The final loss is \", record[-1])\n",
    "    result = pd.Series(coeff.A1, index=columns, name=\"correlation coefficient\")\n",
    "    return result\n",
    "\n"
   ]
  },
  {
   "cell_type": "markdown",
   "metadata": {},
   "source": [
    "\n"
   ]
  },
  {
   "cell_type": "code",
   "execution_count": 398,
   "metadata": {},
   "outputs": [
    {
     "data": {
      "image/png": "[encoded data removed]",
      "text/plain": [
       "<Figure size 432x288 with 1 Axes>"
      ]
     },
     "metadata": {
      "needs_background": "light"
     },
     "output_type": "display_data"
    },
    {
     "name": "stdout",
     "output_type": "stream",
     "text": [
      "The final loss is  18.969582382654266\n"
     ]
    },
    {
     "data": {
      "text/plain": [
       "MEI        -0.218154\n",
       "CO2        -0.093951\n",
       "CH4        -0.102856\n",
       "N2O         0.131874\n",
       "CFC-11      0.014836\n",
       "CFC-12      0.167336\n",
       "TSI         0.435553\n",
       "Aerosols    0.649525\n",
       "Constant    0.337525\n",
       "Name: correlation coefficient, dtype: float64"
      ]
     },
     "execution_count": 398,
     "metadata": {},
     "output_type": "execute_result"
    }
   ],
   "source": [
    "min_max_scaler = preprocessing.MinMaxScaler()\n",
    "scaled_train = min_max_scaler.fit_transform(train_data.iloc[:,2:].values)\n",
    "scaled_train = pd.DataFrame(scaled_train, columns = train_data.columns[2:])\n",
    "result = gradientDescent(scaled_train.iloc[:,:-1], scaled_train.Temp)\n",
    "result"
   ]
  }
 ],
 "metadata": {
  "kernelspec": {
   "display_name": "Python 3",
   "language": "python",
   "name": "python3"
  },
  "language_info": {
   "codemirror_mode": {
    "name": "ipython",
    "version": 3
   },
   "file_extension": ".py",
   "mimetype": "text/x-python",
   "name": "python",
   "nbconvert_exporter": "python",
   "pygments_lexer": "ipython3",
   "version": "3.7.5"
  }
 },
 "nbformat": 4,
 "nbformat_minor": 2
}
