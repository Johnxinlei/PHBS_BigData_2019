{
 "cells": [
  {
   "cell_type": "markdown",
   "metadata": {},
   "source": [
    "# Homework 2\n",
    "## Name: 常鑫磊\n",
    "## ID:1801212779"
   ]
  },
  {
   "cell_type": "markdown",
   "metadata": {},
   "source": [
    "# Problem 1"
   ]
  },
  {
   "cell_type": "markdown",
   "metadata": {},
   "source": [
    "### 1. Implement a function closed_form_1 that computes this closed form solution given the features 𝐗, labels Y (using Python or Matlab).\n"
   ]
  },
  {
   "cell_type": "code",
   "execution_count": 240,
   "metadata": {},
   "outputs": [],
   "source": [
    "import numpy as np\n",
    "import pandas as pd\n",
    "import matplotlib.pyplot as plt"
   ]
  },
  {
   "cell_type": "code",
   "execution_count": 214,
   "metadata": {
    "scrolled": true
   },
   "outputs": [],
   "source": [
    "df_1 = pd.read_csv(\"climate_change_1.csv\",header = 0)\n",
    "df_2 = pd.read_csv(\"climate_change_2.csv\",header = 0)\n",
    "training_set = df_1[df_1.Year<=2006]\n",
    "testing_set = df_1[df_1.Year>=2006]"
   ]
  },
  {
   "cell_type": "code",
   "execution_count": 215,
   "metadata": {},
   "outputs": [],
   "source": [
    "n_samples = len(training_set)\n",
    "Y=training_set.values[:,-1]\n",
    "constant = np.ones(n_samples)\n",
    "X=np.insert(training_set.values[:,2:-1],0,constant,axis=1)"
   ]
  },
  {
   "cell_type": "code",
   "execution_count": 217,
   "metadata": {},
   "outputs": [
    {
     "data": {
      "text/plain": [
       "array([-1.24594261e+02,  6.42053134e-02,  6.45735927e-03,  1.24041896e-04,\n",
       "       -1.65280033e-02, -6.63048889e-03,  3.80810324e-03,  9.31410838e-02,\n",
       "       -1.53761324e+00])"
      ]
     },
     "execution_count": 217,
     "metadata": {},
     "output_type": "execute_result"
    }
   ],
   "source": [
    "def closed_form_1(x,y):\n",
    "    beta = np.linalg.inv(x.T@x)@x.T@y\n",
    "    return beta\n",
    "\n",
    "beta = closed_form_1(X,Y)\n",
    "beta"
   ]
  },
  {
   "cell_type": "markdown",
   "metadata": {},
   "source": [
    "### 2.Write down the mathematical formula for the linear model and evaluate the model R2 on the training set and the testing set.\n",
    "The mathematical formula for the linear model is\n",
    "* $$y=X\\beta+\\epsilon$$\n",
    "\n",
    "The formula of $R^2$ is\n",
    "* $$R^2 = \\frac{\\Sigma_i(\\hat y_i-\\bar y_i)^2}{\\Sigma_i(y_i-\\bar y_i)^2}$$"
   ]
  },
  {
   "cell_type": "code",
   "execution_count": 241,
   "metadata": {},
   "outputs": [
    {
     "data": {
      "text/plain": [
       "0.7508932772525233"
      ]
     },
     "execution_count": 241,
     "metadata": {},
     "output_type": "execute_result"
    }
   ],
   "source": [
    "def R_squared(x,y,beta):\n",
    "    SSR = np.var(x@beta)*len(x)\n",
    "    SST = np.var(y)*len(x)\n",
    "    return SSR/SST\n",
    "\n",
    "R_squared(X,Y,closed_form_1(X,Y))"
   ]
  },
  {
   "cell_type": "code",
   "execution_count": 244,
   "metadata": {},
   "outputs": [
    {
     "name": "stdout",
     "output_type": "stream",
     "text": [
      "R_squared of training_data is 0.7508932772525233\n",
      "R_squared of testing_data is 0.25042289711229276\n"
     ]
    }
   ],
   "source": [
    "n_samples = len(testing_set)\n",
    "Y_test=testing_set.values[:,-1]\n",
    "constant = np.ones(n_samples)\n",
    "X_test=np.insert(testing_set.values[:,2:-1],0,constant,axis=1)\n",
    "\n",
    "R_squared(X_test,Y_test,closed_form_1(X,Y))\n",
    "\n",
    "print(\"R_squared of training_data is\", R_squared(X,Y,closed_form_1(X,Y)))\n",
    "print(\"R_squared of testing_data is\", R_squared(X_test,Y_test,closed_form_1(X,Y)))\n"
   ]
  },
  {
   "cell_type": "markdown",
   "metadata": {},
   "source": [
    "### 3.Which variables are significant in the model?"
   ]
  },
  {
   "cell_type": "code",
   "execution_count": 245,
   "metadata": {},
   "outputs": [],
   "source": [
    "def t_test(x,y):\n",
    "    sum_error = (y-x@closed_form_1(x,y)).T@(y-x@closed_form_1(x,y))\n",
    "    n = np.shape(x)[0]\n",
    "    k = np.shape(x)[1]\n",
    "    var_beta = sum_error/(n-k)*np.diag(np.linalg.inv(X.T@X))\n",
    "    t = closed_form_1(x,y)/np.sqrt(var_beta)\n",
    "    return t"
   ]
  },
  {
   "cell_type": "code",
   "execution_count": 246,
   "metadata": {},
   "outputs": [
    {
     "data": {
      "text/plain": [
       "array([-6.26517396,  9.923226  ,  2.8264197 ,  0.2404694 , -1.92972604,\n",
       "       -4.07783387,  3.75729271,  6.31256095, -7.21030085])"
      ]
     },
     "execution_count": 246,
     "metadata": {},
     "output_type": "execute_result"
    }
   ],
   "source": [
    "t_test(X,Y)"
   ]
  },
  {
   "cell_type": "code",
   "execution_count": 247,
   "metadata": {},
   "outputs": [
    {
     "data": {
      "text/plain": [
       "array([ True, False, False,  True,  True,  True, False, False,  True])"
      ]
     },
     "execution_count": 247,
     "metadata": {},
     "output_type": "execute_result"
    }
   ],
   "source": [
    "t_test(X,Y)<2"
   ]
  },
  {
   "cell_type": "markdown",
   "metadata": {},
   "source": [
    "# Problem2"
   ]
  },
  {
   "cell_type": "markdown",
   "metadata": {},
   "source": [
    "### 1. Please write down the loss function for linear model with L1 regularization, L2 regularization, respectively.\n",
    "* The loss function with $L_1$ regularization $$L=(Y-X\\beta)'(Y-X\\beta)+\\lambda||\\beta||_1$$\n",
    "* The loss function with $L_2$ regularization $$L=(Y-X\\beta)'(Y-X\\beta)+\\lambda ||\\beta||_2^2$$\n"
   ]
  },
  {
   "cell_type": "markdown",
   "metadata": {},
   "source": [
    "### 2.The closed form solution for linear model with L2 regularization:\n",
    "$$\\theta = (X^TX+\\lambda I)^{-1}X^TY$$ \n",
    "### where I is the identity matrix. Write a function closed_form_2 that computes this closed form solution given the features X, labels Y and the regularization parameter $\\lambda$"
   ]
  },
  {
   "cell_type": "code",
   "execution_count": 203,
   "metadata": {},
   "outputs": [
    {
     "data": {
      "text/plain": [
       "array([-8.08439685e+01,  4.48393633e-02,  8.41756269e-03,  2.58313240e-04,\n",
       "       -1.76472998e-02, -6.80438552e-03,  3.74782755e-03,  6.07197938e-02,\n",
       "       -2.68981314e-02])"
      ]
     },
     "execution_count": 203,
     "metadata": {},
     "output_type": "execute_result"
    }
   ],
   "source": [
    "def closed_form_2(x,y,lam):\n",
    "    lam_mat = lam*np.eye(x.shape[1])\n",
    "    lam_mat[0,0] = 0\n",
    "    beta = np.linalg.inv(x.T@x+lam_mat)@x.T@y\n",
    "    return beta\n",
    "\n",
    "closed_form_2(X,Y,10)\n"
   ]
  },
  {
   "cell_type": "markdown",
   "metadata": {},
   "source": [
    "### 3.Compare the two solutions in problem 1 and problem 2 and explain the reason why linear model with L2 regularization is robust. (using climate_change_1.csv)"
   ]
  },
  {
   "cell_type": "code",
   "execution_count": 207,
   "metadata": {},
   "outputs": [
    {
     "name": "stdout",
     "output_type": "stream",
     "text": [
      "L2 coeffcient: [-8.08439685e+01  4.48393633e-02  8.41756269e-03  2.58313240e-04\n",
      " -1.76472998e-02 -6.80438552e-03  3.74782755e-03  6.07197938e-02\n",
      " -2.68981314e-02]\n",
      "no punishment coefficient: [-1.24594261e+02  6.42053134e-02  6.45735927e-03  1.24041896e-04\n",
      " -1.65280033e-02 -6.63048889e-03  3.80810324e-03  9.31410838e-02\n",
      " -1.53761324e+00]\n"
     ]
    }
   ],
   "source": [
    "beta_L2 = closed_form_2(X,Y,10)\n",
    "beta = closed_form_2(X,Y,0)\n",
    "\n",
    "print(\"L2 coeffcient:\",beta_L2)\n",
    "print(\"no punishment coefficient:\",beta)"
   ]
  },
  {
   "cell_type": "markdown",
   "metadata": {},
   "source": [
    "We can see under L2 regularization, most of coefficient are shrinked compared to the no regularization formula, which can prevent overfiting, thus the linear model with L2 regularization is robust"
   ]
  },
  {
   "cell_type": "markdown",
   "metadata": {},
   "source": [
    "### 4. You can change the regularization parameter λ to get different solutions for this problem. Suppose we set λ = 10, 1, 0.1, 0.01, 0.001, and please evaluate the model R2 on the training set and the testing set. Finally, please decide the best regularization parameter $\\lambda$."
   ]
  },
  {
   "cell_type": "markdown",
   "metadata": {},
   "source": [
    "$\\lambda$ = 0.01 is best"
   ]
  },
  {
   "cell_type": "markdown",
   "metadata": {},
   "source": [
    "# Problem3"
   ]
  },
  {
   "cell_type": "markdown",
   "metadata": {},
   "source": [
    "### 1. From Problem 1, you can know which variables are significant, therefore you can use less variables to train model. For example, remove highly correlated and redundant features. You can propose a workflow to select feature.\n",
    "\n",
    "1. Remove the highly correlated variable first.\n",
    "2. Run regression, remove the insignificant variables step by step"
   ]
  },
  {
   "cell_type": "markdown",
   "metadata": {},
   "source": [
    "# Problem 4"
   ]
  },
  {
   "cell_type": "markdown",
   "metadata": {},
   "source": [
    "**Gradient descent algorithm is an iterative process that takes us to the minimum of a function. Please write down the iterative expression for updating the solution of linear model and implement it using Python or Matlab in gradientDescent function.**\n",
    "* Batch based gradient descent iterative formula is$$\\beta_n = \\beta_{n-1} -\\frac{\\alpha}{m} X'(X\\beta -y)$$\n"
   ]
  },
  {
   "cell_type": "code",
   "execution_count": 238,
   "metadata": {
    "scrolled": true
   },
   "outputs": [
    {
     "data": {
      "image/png": "[encoded data removed]",
      "text/plain": [
       "<Figure size 432x288 with 1 Axes>"
      ]
     },
     "metadata": {
      "needs_background": "light"
     },
     "output_type": "display_data"
    },
    {
     "name": "stdout",
     "output_type": "stream",
     "text": [
      "The final loss is  18.053454488251507\n"
     ]
    },
    {
     "data": {
      "text/plain": [
       "Month      -0.255301\n",
       "MEI        -0.133413\n",
       "CO2        -0.039745\n",
       "CH4        -0.059796\n",
       "N2O         0.166380\n",
       "CFC-11      0.036993\n",
       "CFC-12      0.169644\n",
       "TSI         0.456629\n",
       "Aerosols    0.671386\n",
       "Constant    0.325425\n",
       "Name: correlation coefficient, dtype: float64"
      ]
     },
     "execution_count": 238,
     "metadata": {},
     "output_type": "execute_result"
    }
   ],
   "source": [
    "from sklearn import preprocessing\n",
    "\n",
    "train_data = df_1.loc[:2006,:]\n",
    "\n",
    "def loss(coeff,x,y):\n",
    "    return (x@coeff-y).T@(x@coeff-y)\n",
    "\n",
    "def gradientDescent(x,y,iter_max=200000, batch=100,alpha=1e-5,\n",
    "                     min_gap=1e-1,constant=True):\n",
    "    record = []\n",
    "    if constant:\n",
    "        x[\"Constant\"]=1\n",
    "    columns = x.columns\n",
    "    x = np.matrix(x)\n",
    "    y = np.matrix(y).T\n",
    "    coeff = np.matrix(np.arange(x.shape[1])/x.shape[1]).T\n",
    "\n",
    "    for i in range(iter_max):\n",
    "        idx = np.random.choice(x.shape[0],batch)\n",
    "        x_batch = x[idx,:]\n",
    "        y_batch = y[idx,:]\n",
    "        iteration = alpha/batch*(x_batch.T@(x_batch@coeff-y_batch))\n",
    "        if np.abs(iteration.A1).all() < min_gap:\n",
    "            print(\"iteration terminal at %s times\"%i)\n",
    "            break\n",
    "        else:\n",
    "            coeff = coeff - iteration\n",
    "            record.append(loss(coeff,x,y)[0,0])\n",
    "            \n",
    "    plt.plot(record, label = \"loss_function\")\n",
    "    plt.ylabel(\"total_loss\")\n",
    "    plt.xlabel(\"iter_times\")\n",
    "    plt.legend()\n",
    "    plt.show()\n",
    "    \n",
    "    print(\"The final loss is \", record[-1])\n",
    "    result = pd.Series(coeff.A1, index=columns, name=\"correlation coefficient\")\n",
    "    return result\n",
    "\n",
    "min_max_scaler = preprocessing.MinMaxScaler()\n",
    "scaled_train = min_max_scaler.fit_transform(train_data.iloc[:,1:].values)\n",
    "scaled_train = pd.DataFrame(scaled_train, columns = train_data.columns[1:])\n",
    "result = gradientDescent(scaled_train.iloc[:,:-1], scaled_train.Temp)\n",
    "result"
   ]
  },
  {
   "cell_type": "markdown",
   "metadata": {},
   "source": [
    "\n"
   ]
  },
  {
   "cell_type": "code",
   "execution_count": null,
   "metadata": {},
   "outputs": [],
   "source": []
  },
  {
   "cell_type": "code",
   "execution_count": null,
   "metadata": {},
   "outputs": [],
   "source": []
  }
 ],
 "metadata": {
  "kernelspec": {
   "display_name": "Python 3",
   "language": "python",
   "name": "python3"
  },
  "language_info": {
   "codemirror_mode": {
    "name": "ipython",
    "version": 3
   },
   "file_extension": ".py",
   "mimetype": "text/x-python",
   "name": "python",
   "nbconvert_exporter": "python",
   "pygments_lexer": "ipython3",
   "version": "3.7.5"
  }
 },
 "nbformat": 4,
 "nbformat_minor": 2
}
